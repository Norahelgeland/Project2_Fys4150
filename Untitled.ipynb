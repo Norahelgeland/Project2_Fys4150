{
 "cells": [
  {
   "cell_type": "code",
   "execution_count": 51,
   "metadata": {},
   "outputs": [],
   "source": [
    "import pyarma as pa\n",
    "import sys\n",
    "import numpy as np\n",
    "\n",
    "A = pa.mat() #Create pa.mat object (just as arma::mat in C++)\n",
    "A.load(\"file1\") #Load the content of the matrix you saved into your Python program.\n",
    "numpy.set_printoptions(threshold=sys.maxsize)\n"
   ]
  },
  {
   "cell_type": "code",
   "execution_count": null,
   "metadata": {},
   "outputs": [],
   "source": []
  },
  {
   "cell_type": "code",
   "execution_count": 52,
   "metadata": {},
   "outputs": [
    {
     "name": "stdout",
     "output_type": "stream",
     "text": [
      "[[ 72. -36.   0.   0.   0.   0.]\n",
      " [-36.  72. -36.   0.   0.   0.]\n",
      " [  0. -36.  72. -36.   0.   0.]\n",
      " [  0.   0. -36.  72. -36.   0.]\n",
      " [  0.   0.   0. -36.  72. -36.]\n",
      " [  0.   0.   0.   0. -36.  72.]]\n"
     ]
    }
   ],
   "source": [
    "print(np.array(A))\n"
   ]
  },
  {
   "cell_type": "code",
   "execution_count": null,
   "metadata": {},
   "outputs": [],
   "source": []
  },
  {
   "cell_type": "code",
   "execution_count": 41,
   "metadata": {},
   "outputs": [
    {
     "name": "stdout",
     "output_type": "stream",
     "text": [
      "0.0\n"
     ]
    }
   ],
   "source": []
  },
  {
   "cell_type": "code",
   "execution_count": null,
   "metadata": {},
   "outputs": [],
   "source": []
  }
 ],
 "metadata": {
  "kernelspec": {
   "display_name": "Python 3",
   "language": "python",
   "name": "python3"
  },
  "language_info": {
   "codemirror_mode": {
    "name": "ipython",
    "version": 3
   },
   "file_extension": ".py",
   "mimetype": "text/x-python",
   "name": "python",
   "nbconvert_exporter": "python",
   "pygments_lexer": "ipython3",
   "version": "3.7.4"
  }
 },
 "nbformat": 4,
 "nbformat_minor": 2
}
